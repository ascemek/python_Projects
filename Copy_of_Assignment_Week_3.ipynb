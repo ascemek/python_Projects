{
  "nbformat": 4,
  "nbformat_minor": 0,
  "metadata": {
    "colab": {
      "name": "Copy of Assignment Week 3.ipynb",
      "provenance": [],
      "include_colab_link": true
    },
    "kernelspec": {
      "name": "python3",
      "display_name": "Python 3"
    }
  },
  "cells": [
    {
      "cell_type": "markdown",
      "metadata": {
        "id": "view-in-github",
        "colab_type": "text"
      },
      "source": [
        "<a href=\"https://colab.research.google.com/github/ascemek/python_projects/blob/master/Copy_of_Assignment_Week_3.ipynb\" target=\"_parent\"><img src=\"https://colab.research.google.com/assets/colab-badge.svg\" alt=\"Open In Colab\"/></a>"
      ]
    },
    {
      "cell_type": "markdown",
      "metadata": {
        "id": "5Hr8F8azZKy_",
        "colab_type": "text"
      },
      "source": [
        "# Assignment - Week 3 - Flow Control\n",
        "\n",
        "**PART 1 : GETTING STARTED WITH GITHUB**\n",
        "\n",
        "\n",
        "\n",
        "---\n",
        "\n",
        "\n",
        "\n",
        "In this assignment you will use what you learned from the reading and the worksheet to write your first Python programs. \n",
        "\n",
        "The first thing that I need you to do is to make a GitHub account so that you can turn in this assignment. GitHub is an online tool that is used by many computer scientists to share code and data. \n",
        "\n",
        "\n",
        "*   Go to https://www.github.com\n",
        "*   Click on the \"Sign Up\" button in the upper-right corner\n",
        "*   Fill out the form to create an account\n",
        "*   Go to https://github.com/new\n",
        "*   Create a new repository for this class\n",
        "*   Please make this repository public so that I can see your code\n",
        "*   Additionally, please click the check box to add a README file to your repository\n",
        "\n",
        "Once you have a repository, you can save files to your repository from Google Colab. To do this, go to the \"File\" menu in the corner and select \"Save a Copy in Github\". \n",
        "\n",
        "UNFORTUNATELY: Because you grabbed these instructions from My GitHub account, it wants to save back to my GitHub account (which won't work). Therefore one option is to create a new Notebook (File --> New Notebook) which you can then save to your GitHub account. \n",
        "\n",
        "(The other option is to first save a copy into Google Drive to make a new notebook that has these instructions and then since that is a new Notebook, you can save it to your GitHub account)\n",
        "\n",
        "This will require you to provide you to provide your GitHub login information to authorize Google Colab to write files into your GitHub repository. \n",
        "\n",
        "You can also put files into your GitHub repostiory without using Google Colab. You might be able to figure this out by exploring the GitHub website, but this is something that we will talk about in a future week. \n",
        "\n",
        "Finally, once you have finished the assignment and put your code in the GitHub repository, You need to go in Canvas (to the week 3 assignment page) and tell me your Github username and the name of your repository. \n",
        "\n",
        "If you have any questions about GitHub, feel free to email myself or Ellie.\n"
      ]
    },
    {
      "cell_type": "markdown",
      "metadata": {
        "id": "9e-KsmDyfOHN",
        "colab_type": "text"
      },
      "source": [
        "**PART 2 : PROGRAMMING PROBLEMS**\n",
        "\n",
        "\n",
        "\n",
        "---\n",
        "\n",
        "**REMINDER: You are encouraged to talk with your group members about the assignment, but everyone must type their own code**\n",
        "\n",
        "\n",
        "\n",
        "---\n",
        "\n",
        "Python doesn't know anything about Even numbers. I want to use Even numbers in this assignment, so I am going to write some code that allows you to ask Python the question \"Is this number Even\". \n",
        "\n",
        "When you click the button to run the next chunk of code, Python will read my definition of is_it_even and then anything that you write afterwards (down below) can use the question is_it_even and Python will understand it.\n",
        "\n",
        "Next week you will learn how to define new questions like is_it_even. \n",
        "\n"
      ]
    },
    {
      "cell_type": "code",
      "metadata": {
        "id": "lsIagqsAfwVV",
        "colab_type": "code",
        "colab": {
          "base_uri": "https://localhost:8080/",
          "height": 35
        },
        "outputId": "2941026b-ec77-4754-edb9-322394e697be"
      },
      "source": [
        "def is_it_even(number):\n",
        "  if(number % 2 == 0):\n",
        "    return True\n",
        "  else:\n",
        "    return False\n",
        "\n",
        "#The code above defines the question is_it_even\n",
        "#Next I will show you an example of how to you is_it_even\n",
        "\n",
        "#When I start a line with a # symbol, Python ignores the entire line\n",
        "#I can use this feature to write comments to help you understand my code\n",
        "\n",
        "if is_it_even(5):\n",
        "  print(\"5 is an even number\")\n",
        "else:\n",
        "  print(\"5 is NOT an even number\")"
      ],
      "execution_count": null,
      "outputs": [
        {
          "output_type": "stream",
          "text": [
            "5 is NOT an even number\n"
          ],
          "name": "stdout"
        }
      ]
    },
    {
      "cell_type": "markdown",
      "metadata": {
        "id": "Hb6MWOLEfxmT",
        "colab_type": "text"
      },
      "source": [
        "0) Write a loop that prints \"Hello World\" five times\n",
        "\n",
        "1) Write code that asks the user to enter two numbers, then print out the smaller of the two numbers. (You will need an if statement to figure out which is the smallest)\n",
        "\n",
        "2) Write code that asks the user to enter three numbers, then print out the second largest of the three numbers. (This will require some cleverness with if statements!)\n",
        "\n",
        "3) Write a for loop that looks at the numbers [3, 2, 8, 9, 17, 24] and counts how many of them are even. (You will need a variable to keep count of how many even numbers you have seen. You should increase the variable by one each time the user enters an even number)\n",
        "\n",
        "3) Write a loop that asks the user to enter five numbers and prints out how many of the numbers are even. \n",
        "\n",
        "4) Write a loop that allows the user to keep entering as many numbers as they want to and then when they are done, print out how many of the numbers were even. One way to do this is to tell the user to enter -1 to signal that they are done, and then end when you see a -1. \n",
        "\n",
        "5) Write a number guessing game. You should pick a number (assign it to a varaible in your code) and then repeatedly ask the user to guess the number. Tell the user is their guess is too high or too low, and end when the user correctly guesses your number.\n",
        "\n",
        "\n",
        "\n",
        "---\n",
        "\n",
        "---\n",
        "\n",
        "**If you have time this week, you should improve your guessing game.**\n",
        "\n",
        "6) Modify your guessing game so that it counts the number of tries that it takes the user to correclty guess the number. \n",
        "\n",
        "7) It is kind of stupid to have to pick a number and write it in your code. In particular, this means that if you want to play the game more than once, you need to actually go and change the code ... Also, if the user sees your code, they will know exaclty what to guess.\n",
        "\n",
        "A better way is to have Python pick a random number. By default, Python doesn't know how to pick a random number. Fortunately, someone already put together an explanation of how to pick random numbers, we can add this new capability to Python by \"importing\" the instructions that someone else wrote.\n",
        "\n",
        "I have code down below that shows you how to import the random number instructions and then how to ask Python to pick a random number.\n",
        "\n",
        "---\n",
        "\n",
        "--- \n",
        "\n",
        "**I don't expect you to get this next one, but it is a nice problem if you are looking to challenge yourself.**\n",
        "\n",
        "8) You could modify your guessing game to say \"getting closer\" or \"getting further away\" (i.e., \"warmer\" or \"colder\") instead of \"Too High\" or \"Too Low\"\n",
        "\n",
        "In order to do this you would need to remember how far away the last guess was (in a new variable). You can then compare how far away the new guess is with how far away the old guess was ... This will allow you to tell the user whether they are getting closer to the correct number, or if they are getting further away.\n"
      ]
    },
    {
      "cell_type": "code",
      "metadata": {
        "id": "QnMxv9iuFyMG",
        "colab_type": "code",
        "colab": {}
      },
      "source": [
        "#These instructions pick a random number\n",
        "#The random.randint command does the hard work\n",
        "#The two numbers in the parentheses are the lower bound and upper bound\n",
        "#So in this example, Python will pick a number between 1 and 100\n",
        "\n",
        "#Run this multiple times (using the Arrow Button on the left) and you will get different numbers\n",
        "\n",
        "import random\n",
        "X = random.randint(1,100)\n",
        "print(X)"
      ],
      "execution_count": null,
      "outputs": []
    },
    {
      "cell_type": "code",
      "metadata": {
        "id": "aHvro65PGp0J",
        "colab_type": "code",
        "colab": {
          "base_uri": "https://localhost:8080/",
          "height": 104
        },
        "outputId": "b236aa75-6ce1-4476-c02f-0dcc1d1da042"
      },
      "source": [
        "#0\n",
        "\n",
        "i = 0\n",
        "while i < 5:\n",
        "  print(\"Hello World\")\n",
        "  i = i + 1\n",
        "  "
      ],
      "execution_count": null,
      "outputs": [
        {
          "output_type": "stream",
          "text": [
            "Hello World\n",
            "Hello World\n",
            "Hello World\n",
            "Hello World\n",
            "Hello World\n"
          ],
          "name": "stdout"
        }
      ]
    },
    {
      "cell_type": "code",
      "metadata": {
        "id": "Wla26-N8FHaa",
        "colab_type": "code",
        "colab": {
          "base_uri": "https://localhost:8080/",
          "height": 69
        },
        "outputId": "be66bf9b-8ced-4118-bf85-662bc8954af6"
      },
      "source": [
        "#1\n",
        "\n",
        "number1 = input(\"Enter a number: \")\n",
        "number2 = input(\"Enter another number: \")\n",
        "\n",
        "if int (number1) < int (number2) :\n",
        "  print(\"The smaller of the two numbers is \" + number1)\n",
        "else:\n",
        "  print(\"The smaller of the two numbers is \" + number2)\n",
        "\n"
      ],
      "execution_count": null,
      "outputs": [
        {
          "output_type": "stream",
          "text": [
            "Enter a number: 5\n",
            "Enter another number: 12\n",
            "The smaller of the two numbers is 5\n"
          ],
          "name": "stdout"
        }
      ]
    },
    {
      "cell_type": "code",
      "metadata": {
        "id": "NO71kMKBFHmG",
        "colab_type": "code",
        "colab": {
          "base_uri": "https://localhost:8080/",
          "height": 87
        },
        "outputId": "c605abff-9ad5-4cda-dfa3-fe2c4b4802f9"
      },
      "source": [
        "#2\n",
        "\n",
        "number1 = float(input(\"Enter a number: \"))\n",
        "number2 = float(input(\"Enter another number: \"))\n",
        "number3 = float(input(\"Enter a different number from the previous two: \"))\n",
        "\n",
        "if (number1 < number2) and (number2 < number3):\n",
        "  the_second_largest = number2\n",
        "elif number2 < number3 and number3 < number1  :\n",
        "  the_second_largest = number3\n",
        "else:\n",
        "  the_second_largest = number1\n",
        "\n",
        "print(\"The second largest of the three numbers is \" , the_second_largest)"
      ],
      "execution_count": null,
      "outputs": [
        {
          "output_type": "stream",
          "text": [
            "Enter a number: 9\n",
            "Enter another number: 5\n",
            "Enter a different number from the previous two: 7\n",
            "The second largest of the three numbers is  7.0\n"
          ],
          "name": "stdout"
        }
      ]
    },
    {
      "cell_type": "code",
      "metadata": {
        "id": "-kdWVpllM1wd",
        "colab_type": "code",
        "colab": {
          "base_uri": "https://localhost:8080/",
          "height": 52
        },
        "outputId": "4fcccbbb-13fe-4dcc-92d1-6807161dfc8c"
      },
      "source": [
        "#3 \n",
        "\n",
        "evenCount, oddCount = 0, 0\n",
        "\n",
        "for num in [3, 2, 8, 9, 17, 24]:\n",
        "  \n",
        "  if num % 2 == 0:\n",
        "    evenCount = evenCount + 1\n",
        "  \n",
        "  else: \n",
        "    oddCount = oddCount + 1\n",
        "\n",
        "print(\"Even numbers in the list: \", evenCount) \n",
        "print(\"Odd numbers in the list: \", oddCount) \n"
      ],
      "execution_count": null,
      "outputs": [
        {
          "output_type": "stream",
          "text": [
            "Even numbers in the list:  3\n",
            "Odd numbers in the list:  3\n"
          ],
          "name": "stdout"
        }
      ]
    },
    {
      "cell_type": "code",
      "metadata": {
        "id": "je-aJLU3lijK",
        "colab_type": "code",
        "colab": {
          "base_uri": "https://localhost:8080/",
          "height": 139
        },
        "outputId": "6beaf537-38a5-41a1-b7f0-3399179b4036"
      },
      "source": [
        "#3\n",
        "\n",
        "evenCount, oddCount = 0, 0\n",
        "\n",
        "for num in range(5):\n",
        "  num = int (input(\"Input an integer: \")) \n",
        "\n",
        "  if num % 2 == 0:\n",
        "    evenCount = evenCount + 1\n",
        "  \n",
        "  else: \n",
        "    oddCount = oddCount + 1\n",
        "\n",
        "print(\"Even numbers in the list: \", evenCount) \n",
        "print(\"Odd numbers in the list: \", oddCount) \n",
        "\n"
      ],
      "execution_count": null,
      "outputs": [
        {
          "output_type": "stream",
          "text": [
            "Input an integer: 7\n",
            "Input an integer: 5\n",
            "Input an integer: 2\n",
            "Input an integer: 4\n",
            "Input an integer: 9\n",
            "Even numbers in the list:  2\n",
            "Odd numbers in the list:  3\n"
          ],
          "name": "stdout"
        }
      ]
    },
    {
      "cell_type": "code",
      "metadata": {
        "id": "S-oPCvA4vKIm",
        "colab_type": "code",
        "colab": {
          "base_uri": "https://localhost:8080/",
          "height": 277
        },
        "outputId": "4815829f-c695-41b8-e928-2e667d8cfd97"
      },
      "source": [
        "#4\n",
        "\n",
        "evenCount, oddCount = 0, 0\n",
        "\n",
        "while True:\n",
        "  print('Input an integer?')\n",
        "  num = input()\n",
        "  if (num) == '-1':\n",
        "    break\n",
        "\n",
        "  if int (num) % 2 == 0:\n",
        "    evenCount = evenCount + 1\n",
        "  \n",
        "  else: \n",
        "    oddCount = oddCount + 1\n",
        "print('You are done with entering integer!')\n",
        "\n",
        "print(\"Even numbers in the list: \", evenCount) \n",
        "print(\"Odd numbers in the list: \", oddCount) "
      ],
      "execution_count": null,
      "outputs": [
        {
          "output_type": "stream",
          "text": [
            "Input an integer?\n",
            "9\n",
            "Input an integer?\n",
            "78\n",
            "Input an integer?\n",
            "63\n",
            "Input an integer?\n",
            "49\n",
            "Input an integer?\n",
            "20\n",
            "Input an integer?\n",
            "-1\n",
            "You are done with entering integer!\n",
            "Even numbers in the list:  2\n",
            "Odd numbers in the list:  3\n"
          ],
          "name": "stdout"
        }
      ]
    },
    {
      "cell_type": "code",
      "metadata": {
        "id": "1tLoWfu8u3oL",
        "colab_type": "code",
        "colab": {
          "base_uri": "https://localhost:8080/",
          "height": 191
        },
        "outputId": "fd96da5a-7993-46aa-84d1-4c72a8614ce7"
      },
      "source": [
        "#5 #6 #7\n",
        "\n",
        "import random\n",
        "\n",
        "guessTaken = 1 #I need to guess at least one time to find the answer \n",
        "secretNumber = random.randint(1, 20) #Imported random will pick a number between 1 and 20\n",
        "print (\"I am thinking of a number between 1 and 20.\")\n",
        "\n",
        "for guessesTaken in range(1,7):\n",
        "  print(\"Take a guess.\")\n",
        "  guess = int(input())\n",
        "  if guess < secretNumber:\n",
        "    print(\"Your guess is too low.\")\n",
        "    guessTaken = guessTaken + 1\n",
        "  elif guess > secretNumber:\n",
        "    print(\"Your guess is too high.\")\n",
        "    guessTaken = guessTaken + 1\n",
        "  else:\n",
        "    break\n",
        "\n",
        "if guess == secretNumber:\n",
        "  print(\"Good Job! You guessed my number in \" + str(guessTaken) + \" guesses!\")\n",
        "else:\n",
        "  print(\"Nope. The number I was thinking of was \" + str(secretNumber)) \n"
      ],
      "execution_count": null,
      "outputs": [
        {
          "output_type": "stream",
          "text": [
            "I am thinking of a number between 1 and 20.\n",
            "Take a guess.\n",
            "12\n",
            "Your guess is too low.\n",
            "Take a guess.\n",
            "14\n",
            "Your guess is too low.\n",
            "Take a guess.\n",
            "16\n",
            "Good Job! You guessed my number in 3 guesses!\n"
          ],
          "name": "stdout"
        }
      ]
    }
  ]
}