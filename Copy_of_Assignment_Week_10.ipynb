{
  "nbformat": 4,
  "nbformat_minor": 0,
  "metadata": {
    "colab": {
      "name": "Copy of Assignment Week 10.ipynb",
      "provenance": [],
      "include_colab_link": true
    },
    "kernelspec": {
      "name": "python3",
      "display_name": "Python 3"
    }
  },
  "cells": [
    {
      "cell_type": "markdown",
      "metadata": {
        "id": "view-in-github",
        "colab_type": "text"
      },
      "source": [
        "<a href=\"https://colab.research.google.com/github/ascemek/python_projects/blob/master/Copy_of_Assignment_Week_10.ipynb\" target=\"_parent\"><img src=\"https://colab.research.google.com/assets/colab-badge.svg\" alt=\"Open In Colab\"/></a>"
      ]
    },
    {
      "cell_type": "markdown",
      "metadata": {
        "id": "3s6mU2pbouTC"
      },
      "source": [
        "**FUN WITH TEXT FILES**\n",
        "\n",
        "In the worksheet this week, we had a bunch of examples of working with text in an external file. In the assignment, we will build on the examples in the Worksheet. \n",
        "\n",
        "You can find the worksheet here: https://github.com/mlepinski/Python-Worksheets/blob/master/Week_10_Worksheet.ipynb\n",
        "\n",
        "1) Write a function, **count_lines** that takes in a file name as input to the function. (That is, as a parameter to the function, you don't want someone to have to type a URL at the keyboard). You function should loop through the lines in the file and count how many lines there are. \n",
        "\n",
        "If you write your function correctly, the following test code should work:"
      ]
    },
    {
      "cell_type": "code",
      "metadata": {
        "id": "uGSdiTn69rfU"
      },
      "source": [
        "#1\n",
        "\n",
        "import urllib.request\n",
        "\n",
        "def count_lines(file_name):\n",
        "  my_file = urllib.request.urlopen(file_name)\n",
        "\n",
        "  line_count = 0\n",
        "  for line in my_file:\n",
        "    line = line.decode(\"utf-8\")\n",
        "    line_count = line_count + 1\n",
        "  \n",
        "  return line_count"
      ],
      "execution_count": null,
      "outputs": []
    },
    {
      "cell_type": "code",
      "metadata": {
        "id": "XB2Sfz41osfq",
        "outputId": "5cbd8adb-ef3f-4651-ed28-bae0fbc15a54",
        "colab": {
          "base_uri": "https://localhost:8080/"
        }
      },
      "source": [
        "file_name1 = \"https://raw.githubusercontent.com/mlepinski/Python-Worksheets/master/Sonnets.txt\"\n",
        "answer1 = count_lines(file_name1)\n",
        "\n",
        "file_name2 = file_name = \"https://raw.githubusercontent.com/mlepinski/Python-Worksheets/master/coolWords.txt\"\n",
        "answer2 = count_lines(file_name2)\n",
        "\n",
        "print(\"First file number of lines:\" , answer1)\n",
        "print(\"Second file number of lines:\" , answer2)"
      ],
      "execution_count": null,
      "outputs": [
        {
          "output_type": "stream",
          "text": [
            "First file number of lines: 2617\n",
            "Second file number of lines: 718\n"
          ],
          "name": "stdout"
        }
      ]
    },
    {
      "cell_type": "markdown",
      "metadata": {
        "id": "-UbHZq45q1gy"
      },
      "source": [
        "2) Write a function, **lines_with_word** that takes two as input both a file name and a word and counts how many lines in the file contain the word. \n",
        "\n",
        "Note: If the word is \"war\" it is perfectly fine (as in the Worksheet) to count lines with \"warm\" or \"warning\" as long as the letters \"war\" are somewhere on the line.\n",
        "\n",
        "Here is some test code: \n"
      ]
    },
    {
      "cell_type": "code",
      "metadata": {
        "id": "LljqWifxCB0N"
      },
      "source": [
        "#2 \n",
        "\n",
        "import urllib.request\n",
        "\n",
        "def lines_with_word(file_name,word):\n",
        "  my_file = urllib.request.urlopen(file_name)\n",
        "\n",
        "  word_counter = 0\n",
        "  for line in my_file:\n",
        "    line = line.decode(\"utf-8\")\n",
        "    if word in line:\n",
        "      word_counter = word_counter + 1\n",
        "  return word_counter"
      ],
      "execution_count": null,
      "outputs": []
    },
    {
      "cell_type": "code",
      "metadata": {
        "id": "FMDKgKu1rR3w",
        "outputId": "6ac72d5c-4f47-4da6-97d0-f27760f93e69",
        "colab": {
          "base_uri": "https://localhost:8080/"
        }
      },
      "source": [
        "file_name = \"https://raw.githubusercontent.com/mlepinski/Python-Worksheets/master/Sonnets.txt\"\n",
        "answer1 = lines_with_word(file_name, \"monuments\")\n",
        "\n",
        "print(\"monuments appears in \", answer1, \"lines\")\n",
        "\n",
        "answer2 = lines_with_word(file_name, \"war\")\n",
        "\n",
        "print(\"war appears in \", answer2, \"lines\")"
      ],
      "execution_count": null,
      "outputs": [
        {
          "output_type": "stream",
          "text": [
            "monuments appears in  1 lines\n",
            "war appears in  39 lines\n"
          ],
          "name": "stdout"
        }
      ]
    },
    {
      "cell_type": "markdown",
      "metadata": {
        "id": "zeI-gGmMrh5c"
      },
      "source": [
        "3) Modify your previous function **lines_with_word** so that it converts the entire line to lowercase before looking for the given word. (This way, if the word is \"shall\" and the line contains \"Shall\", it will still get counted.)\n",
        "\n",
        "Note: Your new function and your old function should give different answers with the input \"shall\" because sometimes \"shall\" is capitolized (\"Shall\") in the file. "
      ]
    },
    {
      "cell_type": "code",
      "metadata": {
        "id": "y7mPkRdFxvSA",
        "outputId": "fcdc736f-af9d-4b94-b915-4cf89cf1ae59",
        "colab": {
          "base_uri": "https://localhost:8080/"
        }
      },
      "source": [
        "#upper case shall\n",
        "file_name = \"https://raw.githubusercontent.com/mlepinski/Python-Worksheets/master/Sonnets.txt\"\n",
        "answer1 = lines_with_word(file_name, \"Shall\")\n",
        "\n",
        "print(\"Upper case Shall appears in \", answer1, \"lines\")\n",
        "\n",
        "#lower case shall\n",
        "file_name = \"https://raw.githubusercontent.com/mlepinski/Python-Worksheets/master/Sonnets.txt\"\n",
        "answer1 = lines_with_word(file_name, \"shall\")\n",
        "\n",
        "print(\"Lower case shall appears in \", answer1, \"lines\")"
      ],
      "execution_count": null,
      "outputs": [
        {
          "output_type": "stream",
          "text": [
            "Upper case Shall appears in  10 lines\n",
            "Lower case shall appears in  50 lines\n"
          ],
          "name": "stdout"
        }
      ]
    },
    {
      "cell_type": "code",
      "metadata": {
        "id": "GS3uJRpvFuzA",
        "outputId": "4faa4c3d-26a7-4aff-b672-0183f773d1ef",
        "colab": {
          "base_uri": "https://localhost:8080/"
        }
      },
      "source": [
        "#3\n",
        "\n",
        "import urllib.request\n",
        "\n",
        "def lines_with_word(file_name,word):\n",
        "  my_file = urllib.request.urlopen(file_name)\n",
        "\n",
        "  word_counter = 0\n",
        "  for line in my_file:\n",
        "    line = line.decode(\"utf-8\")\n",
        "    line = line.lower() \n",
        "    if word in line:\n",
        "      word_counter = word_counter + 1\n",
        "  return word_counter\n",
        "  \n",
        "file_name = \"https://raw.githubusercontent.com/mlepinski/Python-Worksheets/master/Sonnets.txt\"\n",
        "answer1 = lines_with_word(file_name, \"shall\")\n",
        "\n",
        "print(\"shall appears in \", answer1, \"lines\")\n",
        "#This should print lower case shall + upper case shall (50+10=60)"
      ],
      "execution_count": null,
      "outputs": [
        {
          "output_type": "stream",
          "text": [
            "shall appears in  59 lines\n"
          ],
          "name": "stdout"
        }
      ]
    },
    {
      "cell_type": "markdown",
      "metadata": {
        "id": "1Mor-eu6sHo-"
      },
      "source": [
        "4) Write a function **word_count** that takes as input a file name and a word and returns how many times the word appears in the file. \n",
        "\n",
        "Your function is counting occurances of the word and not lines. Also, for this problem please match the word exactly (so if you are looking for \"war\", don't count \"warm\" or \"warning\"). \n",
        "\n",
        "Also, as in question 3, your function should match regardless of whether the word in the file is upper case or lower case.\n",
        "\n",
        "Here is some example code."
      ]
    },
    {
      "cell_type": "code",
      "metadata": {
        "id": "dKxJpFVuxbVp"
      },
      "source": [
        "#4\n",
        "\n",
        "import urllib.request\n",
        "\n",
        "def word_count(file_name,choosen_word):\n",
        "\n",
        "  file_name = \"https://raw.githubusercontent.com/mlepinski/Python-Worksheets/master/Sonnets.txt\"\n",
        "  my_file = urllib.request.urlopen(file_name)\n",
        "\n",
        "  long_string = my_file.read()\n",
        "  long_string = long_string.decode(\"utf-8\")\n",
        "\n",
        "  no_line_breaks = long_string.replace(\"\\n\", \" \")\n",
        "\n",
        "  list_of_words = no_line_breaks.split()\n",
        "\n",
        "  word_counter = 0 \n",
        "\n",
        "  for word in list_of_words:\n",
        "    word = word.lower() \n",
        "    if word == choosen_word:\n",
        "      word_counter = word_counter + 1\n",
        "\n",
        "  return word_counter\n",
        "\n",
        "#the answer should be 6 for war and 1 for monuments"
      ],
      "execution_count": null,
      "outputs": []
    },
    {
      "cell_type": "code",
      "metadata": {
        "id": "Gx42q67ysHF0",
        "outputId": "1b0b9524-d18d-4d0f-c08e-0101fb09ebd4",
        "colab": {
          "base_uri": "https://localhost:8080/"
        }
      },
      "source": [
        "file_name = \"https://raw.githubusercontent.com/mlepinski/Python-Worksheets/master/Sonnets.txt\"\n",
        "answer1 = word_count(file_name, \"monuments\")\n",
        "\n",
        "print(\"monuments appears \", answer1, \"times\")\n",
        "\n",
        "answer2 = word_count(file_name, \"war\")\n",
        "\n",
        "print(\"war appears times\", answer2, \"times\")\n",
        "#the answer should be 6 for war and 1 for monuments"
      ],
      "execution_count": null,
      "outputs": [
        {
          "output_type": "stream",
          "text": [
            "monuments appears  1 times\n",
            "war appears times 6 times\n"
          ],
          "name": "stdout"
        }
      ]
    },
    {
      "cell_type": "markdown",
      "metadata": {
        "id": "h1g7_zq0sjCN"
      },
      "source": [
        "5) It is probably the case that your function in number 4 doesn't handle punctuation very well. \n",
        "\n",
        "If you are looking for \"warm\" and you find \"warm,\" you ideally want \"warm,\" to be counted even though there is a comma present. \n",
        "\n",
        "Modify your **word_count** function so that you remove punctuation like commas, periods, and semi-colons from the file before you go and count the words. \n",
        "\n",
        "If you do this correctly, your new function should give you different answers for words like \"memory\" and \"fuel\" which appear in the file attached to puncuation marks. "
      ]
    },
    {
      "cell_type": "code",
      "metadata": {
        "id": "fDgdMohf9j4g",
        "outputId": "68ef7294-2b81-43c7-cbe4-d83bb6a034f9",
        "colab": {
          "base_uri": "https://localhost:8080/"
        }
      },
      "source": [
        "# Just the memory word appears 3 times by itself without punctuations\n",
        "file_name = \"https://raw.githubusercontent.com/mlepinski/Python-Worksheets/master/Sonnets.txt\"\n",
        "answer1 = word_count(file_name, \"memory\")\n",
        "\n",
        "print(\"memory appears \", answer1, \"times\")"
      ],
      "execution_count": 5,
      "outputs": [
        {
          "output_type": "stream",
          "text": [
            "memory appears  3 times\n"
          ],
          "name": "stdout"
        }
      ]
    },
    {
      "cell_type": "code",
      "metadata": {
        "id": "2O6j6kjXxpKk"
      },
      "source": [
        "#5\n",
        "\n",
        "import urllib.request\n",
        "\n",
        "def word_count1(file_name,choosen_word):\n",
        "\n",
        "  file_name = \"https://raw.githubusercontent.com/mlepinski/Python-Worksheets/master/Sonnets.txt\"\n",
        "  my_file = urllib.request.urlopen(file_name)\n",
        "\n",
        "  long_string = my_file.read()\n",
        "  long_string = long_string.decode(\"utf-8\")\n",
        "\n",
        "  no_line_breaks = long_string.replace(\"\\n\", \" \")\n",
        "\n",
        "  no_commas = no_line_breaks.replace(\",\", \" \")\n",
        "\n",
        "  no_semicol = no_commas.replace(\";\", \" \")\n",
        "\n",
        "  no_period = no_semicol.replace(\".\", \" \")\n",
        "\n",
        "  no_colon = no_period.replace(\":\",\" \")\n",
        "  \n",
        "\n",
        "  list_of_words = no_colon.split()\n",
        "\n",
        "  word_counter = 0 \n",
        "\n",
        "  for word in list_of_words:\n",
        "    word = word.lower() \n",
        "    if word == choosen_word:\n",
        "      word_counter = word_counter + 1\n",
        "\n",
        "  return word_counter\n"
      ],
      "execution_count": 24,
      "outputs": []
    },
    {
      "cell_type": "code",
      "metadata": {
        "id": "0F5FvL62-HY1",
        "outputId": "4bc7846e-03b0-4988-a977-305e1ee51e8a",
        "colab": {
          "base_uri": "https://localhost:8080/"
        }
      },
      "source": [
        "# Memory appears 8 times in total including punctuations\n",
        "file_name = \"https://raw.githubusercontent.com/mlepinski/Python-Worksheets/master/Sonnets.txt\"\n",
        "answer2 = word_count1(file_name, \"memory\")\n",
        "\n",
        "print(\"memory with punctuations appears \", answer2, \"times\")"
      ],
      "execution_count": 25,
      "outputs": [
        {
          "output_type": "stream",
          "text": [
            "memory with punctuations appears  8 times\n"
          ],
          "name": "stdout"
        }
      ]
    },
    {
      "cell_type": "markdown",
      "metadata": {
        "id": "Hexbcc9qsxB8"
      },
      "source": [
        "6) Write a function **word_frequency** that takes in a file name and a file_name and a word as input to the function and returns what percentage of the words in the file match a particular word. \n",
        "\n",
        "That is, you should count the total number of words and divide your word count by the total to get a percentage frequency. This will tell you how often the word appears and could allow you to compare frequencies across files with different lengths. \n",
        "\n",
        "Note: An excellent way to do this is to have your **word_frequency** function make a call to your **word_count** function from the previous problem. \n",
        "\n",
        "You don't have to do this, but now that you have a **word_frequency** function it would be fun to grab another text file from somewhere (it could be something that you have written or something from project Guttenberg) and stick it in your Github. Then use your **word_frequency** function to see if there are certain words (e.g. \"thee\" or maybe even \"shall\") that are used more often by Shakespeare in his sonnets than in the other text file that you found."
      ]
    },
    {
      "cell_type": "code",
      "metadata": {
        "id": "bnUhbVRSDjWG",
        "outputId": "f76080e2-87e5-4711-b1c6-95c02f25fc0f",
        "colab": {
          "base_uri": "https://localhost:8080/"
        }
      },
      "source": [
        "#6 \n",
        "\n",
        "# It shows the percentage of the selected word in the peom\n",
        "\n",
        "import urllib.request\n",
        "\n",
        "def word_frequency(file_name,choosen_word):\n",
        "\n",
        "  file_name = \"https://raw.githubusercontent.com/mlepinski/Python-Worksheets/master/Sonnets.txt\"\n",
        "  my_file = urllib.request.urlopen(file_name)\n",
        "\n",
        "  long_string = my_file.read()\n",
        "  long_string = long_string.decode(\"utf-8\")\n",
        "\n",
        "  no_line_breaks = long_string.replace(\"\\n\", \" \")\n",
        "\n",
        "  list_of_words = no_line_breaks.split()\n",
        "\n",
        "  total_word = 0 \n",
        "\n",
        "  for word in list_of_words:\n",
        "    word = word.lower() \n",
        "    if word == word:\n",
        "      total_word = total_word + 1\n",
        "\n",
        "  return total_word\n",
        "\n",
        "file_name = \"https://raw.githubusercontent.com/mlepinski/Python-Worksheets/master/Sonnets.txt\"\n",
        "total_numword = word_frequency(file_name, \"shall\")\n",
        "\n",
        "print(\"The total number of words in the poem is\",total_numword)\n",
        "\n",
        "the_answer = word_count1(file_name, \"shall\")\n",
        "print(\"The number of the word we look at in poem appears\",the_answer,\"times.\" )\n",
        "\n",
        "the_actual_answer = ((the_answer / total_numword) * 100)\n",
        "print(\"The percentage of the selected word is:\",the_actual_answer,\"%\")\n"
      ],
      "execution_count": 55,
      "outputs": [
        {
          "output_type": "stream",
          "text": [
            "The total number of words in the poem is 17667\n",
            "The number of the word we look at in poem appears 59 times.\n",
            "The percentage of the selected word is: 0.33395596309503595 %\n"
          ],
          "name": "stdout"
        }
      ]
    }
  ]
}