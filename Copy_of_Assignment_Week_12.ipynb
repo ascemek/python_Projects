{
  "nbformat": 4,
  "nbformat_minor": 0,
  "metadata": {
    "colab": {
      "name": "Copy of Assignment Week 12.ipynb",
      "provenance": [],
      "include_colab_link": true
    },
    "kernelspec": {
      "name": "python3",
      "display_name": "Python 3"
    }
  },
  "cells": [
    {
      "cell_type": "markdown",
      "metadata": {
        "id": "view-in-github",
        "colab_type": "text"
      },
      "source": [
        "<a href=\"https://colab.research.google.com/github/ascemek/python_projects/blob/master/Copy_of_Assignment_Week_12.ipynb\" target=\"_parent\"><img src=\"https://colab.research.google.com/assets/colab-badge.svg\" alt=\"Open In Colab\"/></a>"
      ]
    },
    {
      "cell_type": "markdown",
      "metadata": {
        "id": "BsOHbOwEl2_2"
      },
      "source": [
        "**FUN WITH SPREADSHEET DATA**\n",
        "\n",
        "In the worksheet this week, we had a bunch of examples of working with spreadsheet data in an external file. In the assignment, we will build on the examples in the Worksheet.\n",
        "\n",
        "You can find the worksheet here: https://github.com/mlepinski/Python-Worksheets/blob/master/Week_12_Worksheet.ipynb\n",
        "\n",
        "For these problems you should use the state data file in my GitHub repository. https://raw.githubusercontent.com/mlepinski/Python-Worksheets/master/states.csv"
      ]
    },
    {
      "cell_type": "code",
      "metadata": {
        "id": "Ukfid6sElx_n"
      },
      "source": [
        "file_name = \"https://raw.githubusercontent.com/mlepinski/Python-Worksheets/master/states.csv\""
      ],
      "execution_count": null,
      "outputs": []
    },
    {
      "cell_type": "markdown",
      "metadata": {
        "id": "r4g_dchAm6XT"
      },
      "source": [
        "1) The median is the middle value of a set of numbers. (https://en.wikipedia.org/wiki/Median) \n",
        "\n",
        "Write Python code to find the Median population of a state. Since the state data includes the District of Columbia, the median would be the state with the  26th highest population.\n",
        "\n",
        "2) Write Python code to figure out how many state names start with the letter \"M\". \n",
        "\n",
        "Recall that if you have a string, you can get the first letter of the string by using **[0]**. For example, if **name** is a string, then **name[0]** is the first letter of the string\n",
        "\n",
        "3) Population density is the number of people divided by the amount of area. Write Python code that adds a column to the state data that lists the population density of the state. \n",
        "\n",
        "Note: You can print out the **head()** of the data table to make sure this worked.\n",
        "\n",
        "4) Write Python code to figure out which state has the largest population density? the least population density? the median population density?"
      ]
    },
    {
      "cell_type": "code",
      "metadata": {
        "id": "QtssHi_nuway",
        "colab": {
          "base_uri": "https://localhost:8080/"
        },
        "outputId": "d969cb8b-9a10-4111-c830-70e36350661f"
      },
      "source": [
        "#1\n",
        "\n",
        "import pandas\n",
        "\n",
        "file_name = \"https://raw.githubusercontent.com/mlepinski/Python-Worksheets/master/states.csv\"\n",
        "state_data = pandas.read_csv(file_name)\n",
        "\n",
        "median_pop = state_data[\"Pop\"].median()\n",
        "\n",
        "median_pop_row = state_data[ state_data[\"Pop\"]== median_pop]\n",
        "\n",
        "print(median_pop_row)\n",
        "\n",
        "#max_pop_row = state_data[ state_data[\"Pop\"]== max_pop]"
      ],
      "execution_count": 1,
      "outputs": [
        {
          "output_type": "stream",
          "text": [
            "       Name State    Area      Pop\n",
            "5  Colorado    CO  104100  3294394\n"
          ],
          "name": "stdout"
        }
      ]
    },
    {
      "cell_type": "code",
      "metadata": {
        "colab": {
          "base_uri": "https://localhost:8080/"
        },
        "id": "j_Ptr1uaOUIO",
        "outputId": "520dcd7b-4d6b-4bb1-e71c-3593fc1f8f4c"
      },
      "source": [
        "#2\n",
        "\n",
        "import pandas\n",
        "\n",
        "file_name = \"https://raw.githubusercontent.com/mlepinski/Python-Worksheets/master/states.csv\"\n",
        "state_data = pandas.read_csv(file_name)\n",
        "\n",
        "counter = 0\n",
        "\n",
        "for word in state_data[\"Name\"]:\n",
        "  if word[0] == \"M\":\n",
        "    counter = counter + 1\n",
        "\n",
        "print(counter)\n",
        "\n",
        "#The answer should be 8"
      ],
      "execution_count": 2,
      "outputs": [
        {
          "output_type": "stream",
          "text": [
            "8\n"
          ],
          "name": "stdout"
        }
      ]
    },
    {
      "cell_type": "code",
      "metadata": {
        "colab": {
          "base_uri": "https://localhost:8080/",
          "height": 202
        },
        "id": "UT-z0l2KHtUR",
        "outputId": "d095c30c-eaff-40a8-eabf-d7b5f8c9c855"
      },
      "source": [
        "#3\n",
        "\n",
        "import pandas\n",
        "\n",
        "file_name = \"https://raw.githubusercontent.com/mlepinski/Python-Worksheets/master/states.csv\"\n",
        "state_data = pandas.read_csv(file_name)\n",
        "\n",
        "state_data[\"Population Density\"] = state_data[\"Pop\"] / state_data[\"Area\"]\n",
        "\n",
        "state_data.head()\n"
      ],
      "execution_count": 5,
      "outputs": [
        {
          "output_type": "execute_result",
          "data": {
            "text/html": [
              "<div>\n",
              "<style scoped>\n",
              "    .dataframe tbody tr th:only-of-type {\n",
              "        vertical-align: middle;\n",
              "    }\n",
              "\n",
              "    .dataframe tbody tr th {\n",
              "        vertical-align: top;\n",
              "    }\n",
              "\n",
              "    .dataframe thead th {\n",
              "        text-align: right;\n",
              "    }\n",
              "</style>\n",
              "<table border=\"1\" class=\"dataframe\">\n",
              "  <thead>\n",
              "    <tr style=\"text-align: right;\">\n",
              "      <th></th>\n",
              "      <th>Name</th>\n",
              "      <th>State</th>\n",
              "      <th>Area</th>\n",
              "      <th>Pop</th>\n",
              "      <th>Population Density</th>\n",
              "    </tr>\n",
              "  </thead>\n",
              "  <tbody>\n",
              "    <tr>\n",
              "      <th>0</th>\n",
              "      <td>Alabama</td>\n",
              "      <td>AL</td>\n",
              "      <td>52423</td>\n",
              "      <td>4040587</td>\n",
              "      <td>77.076608</td>\n",
              "    </tr>\n",
              "    <tr>\n",
              "      <th>1</th>\n",
              "      <td>Alaska</td>\n",
              "      <td>AK</td>\n",
              "      <td>656424</td>\n",
              "      <td>550043</td>\n",
              "      <td>0.837939</td>\n",
              "    </tr>\n",
              "    <tr>\n",
              "      <th>2</th>\n",
              "      <td>Arizona</td>\n",
              "      <td>AZ</td>\n",
              "      <td>114006</td>\n",
              "      <td>3665228</td>\n",
              "      <td>32.149431</td>\n",
              "    </tr>\n",
              "    <tr>\n",
              "      <th>3</th>\n",
              "      <td>Arkansas</td>\n",
              "      <td>AR</td>\n",
              "      <td>53182</td>\n",
              "      <td>2350725</td>\n",
              "      <td>44.201516</td>\n",
              "    </tr>\n",
              "    <tr>\n",
              "      <th>4</th>\n",
              "      <td>California</td>\n",
              "      <td>CA</td>\n",
              "      <td>163707</td>\n",
              "      <td>29769021</td>\n",
              "      <td>181.843299</td>\n",
              "    </tr>\n",
              "  </tbody>\n",
              "</table>\n",
              "</div>"
            ],
            "text/plain": [
              "         Name State    Area       Pop  Population Density\n",
              "0     Alabama    AL   52423   4040587           77.076608\n",
              "1      Alaska    AK  656424    550043            0.837939\n",
              "2     Arizona    AZ  114006   3665228           32.149431\n",
              "3    Arkansas    AR   53182   2350725           44.201516\n",
              "4  California    CA  163707  29769021          181.843299"
            ]
          },
          "metadata": {
            "tags": []
          },
          "execution_count": 5
        }
      ]
    },
    {
      "cell_type": "code",
      "metadata": {
        "colab": {
          "base_uri": "https://localhost:8080/"
        },
        "id": "C9_a3MP1K5Vc",
        "outputId": "1521f1f0-4601-4da1-e29a-478e99340880"
      },
      "source": [
        "#4\n",
        "\n",
        "#The largest population density\n",
        "\n",
        "file_name = \"https://raw.githubusercontent.com/mlepinski/Python-Worksheets/master/states.csv\"\n",
        "state_data = pandas.read_csv(file_name)\n",
        "\n",
        "state_data[\"Population Density\"] = state_data[\"Pop\"] / state_data[\"Area\"]\n",
        "\n",
        "largest_population_density = state_data[\"Population Density\"].max()\n",
        "largest_population_density_row = state_data[ state_data[\"Population Density\"]== largest_population_density]\n",
        "\n",
        "print(\"The state that have the largest population density is:\")\n",
        "print (largest_population_density_row)"
      ],
      "execution_count": 10,
      "outputs": [
        {
          "output_type": "stream",
          "text": [
            "The state that have the largest populution density is:\n",
            "                   Name State  Area     Pop  Population Density\n",
            "8  District of Columbia    DC    68  606900              8925.0\n"
          ],
          "name": "stdout"
        }
      ]
    },
    {
      "cell_type": "code",
      "metadata": {
        "colab": {
          "base_uri": "https://localhost:8080/"
        },
        "id": "knj3uOzfQyEM",
        "outputId": "ba8a79f9-ca8d-4660-d073-884419eb2f89"
      },
      "source": [
        "#The least population density\n",
        "\n",
        "file_name = \"https://raw.githubusercontent.com/mlepinski/Python-Worksheets/master/states.csv\"\n",
        "state_data = pandas.read_csv(file_name)\n",
        "\n",
        "state_data[\"Population Density\"] = state_data[\"Pop\"] / state_data[\"Area\"]\n",
        "\n",
        "least_population_density = state_data[\"Population Density\"].min()\n",
        "least_population_density_row = state_data[ state_data[\"Population Density\"]== least_population_density]\n",
        "\n",
        "print(\"The state that have the least population density is:\")\n",
        "print (least_population_density_row)\n"
      ],
      "execution_count": 11,
      "outputs": [
        {
          "output_type": "stream",
          "text": [
            "The state that have the least population density is:\n",
            "     Name State    Area     Pop  Population Density\n",
            "1  Alaska    AK  656424  550043            0.837939\n"
          ],
          "name": "stdout"
        }
      ]
    },
    {
      "cell_type": "code",
      "metadata": {
        "colab": {
          "base_uri": "https://localhost:8080/"
        },
        "id": "0S9iPhj2RfhN",
        "outputId": "4dd7359b-6ab4-4b38-9edc-042177ca35ac"
      },
      "source": [
        "# The median population density\n",
        "\n",
        "file_name = \"https://raw.githubusercontent.com/mlepinski/Python-Worksheets/master/states.csv\"\n",
        "state_data = pandas.read_csv(file_name)\n",
        "\n",
        "state_data[\"Population Density\"] = state_data[\"Pop\"] / state_data[\"Area\"]\n",
        "\n",
        "median_population_density = state_data[\"Population Density\"].median()\n",
        "median_population_density_row = state_data[ state_data[\"Population Density\"]== median_population_density]\n",
        "\n",
        "print(\"The state that have the median population density is:\")\n",
        "print (median_population_density_row)\n"
      ],
      "execution_count": 16,
      "outputs": [
        {
          "output_type": "stream",
          "text": [
            "The state that have the median population density is:\n",
            "         Name State   Area      Pop  Population Density\n",
            "49  Wisconsin    WI  65499  4891769           74.684636\n"
          ],
          "name": "stdout"
        }
      ]
    }
  ]
}