{
  "nbformat": 4,
  "nbformat_minor": 0,
  "metadata": {
    "colab": {
      "name": "Copy of Assignment Week 2.ipynb",
      "provenance": [],
      "include_colab_link": true
    },
    "kernelspec": {
      "name": "python3",
      "display_name": "Python 3"
    }
  },
  "cells": [
    {
      "cell_type": "markdown",
      "metadata": {
        "id": "view-in-github",
        "colab_type": "text"
      },
      "source": [
        "<a href=\"https://colab.research.google.com/github/ascemek/python_projects/blob/master/Copy_of_Assignment_Week_2.ipynb\" target=\"_parent\"><img src=\"https://colab.research.google.com/assets/colab-badge.svg\" alt=\"Open In Colab\"/></a>"
      ]
    },
    {
      "cell_type": "markdown",
      "metadata": {
        "id": "fG0u3wRzPXbX",
        "colab_type": "text"
      },
      "source": [
        "# Assignment - Week 2 - Python Basics\n",
        "\n",
        "In this assignment you will use what you learned from the reading and the worksheet to write your first Python programs. \n",
        "\n",
        "You will be asked to cut and paste your Python code into Canvas to turn in the assignment. (There are better ways to submit Python code, but for the first assignment, I think cut and paste is easiest.)\n",
        "\n",
        "You should save your work to your Google Drive by going to the \"File\" menu (in the upper right-hand corner of the window) and clicking \"Save a copy in Drive\".\n",
        "\n",
        "You can later open your saved work by going to the \"File\" menu and clicking \"Open Notebook\" ... Your recently saved work should be in both the \"Recent\" tab and the \"Google Drive\" Tab"
      ]
    },
    {
      "cell_type": "markdown",
      "metadata": {
        "id": "mSW1_nsqSJvI",
        "colab_type": "text"
      },
      "source": [
        "\n",
        "\n",
        "---\n",
        "\n",
        "\n",
        "\n",
        "---\n",
        "\n",
        "**You are encouraged to talk with your group memebers about this assignment. However, everyone must type their own Python code!**"
      ]
    },
    {
      "cell_type": "markdown",
      "metadata": {
        "id": "6eXVpIsdQfMN",
        "colab_type": "text"
      },
      "source": [
        "\n",
        "\n",
        "---\n",
        "\n",
        "\n",
        "\n",
        "---\n",
        "\n",
        "**PROGRAMMING PROBLEMS**\n",
        "\n",
        "0) It is a long-standing tradition that the first program that a programmer writes in any language is Hello World. Write a simple program that prints the words Hello World.\n",
        "\n",
        "1) Write Python code that stores the numbers 3, 4 and 6 in three different variables and then prints the sum of these three numbers\n",
        "\n",
        "2) Write Python code that asks the user to enter three numbers and then prints the sum of those three numbers. (The result that you get when you add three numbers is called the \"sum\" of the three numbers.)\n",
        "\n",
        "3) Write Python code that asks the user for their first name, their last name and their age and then prints a message like the following:\n",
        "\n",
        "Dylan Lepinski is 12 years old!\n",
        "\n",
        "4) Write a program that asks the user for their name and then prints a birthday greeting. You can use whatever birthday greeting you like, but the greeting must include the person's name. I would encourage you to be creative, but if you can't think of anything you can always use an old classic like:\n",
        "\n",
        "Happy Birthday to You, Happy Birthday to You, Happy Birthday Dear Alice, Happy Birthday to You!\n",
        "\n",
        "\n",
        "\n",
        "---\n",
        "\n",
        "\n",
        "\n",
        "---\n",
        "\n",
        "**I expect you to complete problems 0 - 4. You aren't required to complete the last couple problems, but I would strongly encourage you to try them out!**\n",
        "\n",
        "5) Write a program that asks the user for their name and then asks the user whether it is their birthday. If the user says, \"yes\", when asked if it is their birthday, then the program should print them a birthday greeting.\n",
        "\n",
        "6) Write a program that asks the user to enter two numbers and then prints the difference between the larger number and the smaller number. (That is, the larger number minus the smaller number)\n",
        "\n",
        "7) Write a program that asks the user what the number is in their New College email address, and then tells them what year they entered New College. \n",
        "\n",
        "Students that entered in 2020 have either a 23 or a 24 in their email\n",
        "Students that entered in 2019 have a 19 in their email\n",
        "Students that entered in 2018 have an 18 in their email\n",
        "Students that entered in 2017 have a 17 in their email\n",
        "... This pattern continues for students who entered before 2017\n",
        "\n"
      ]
    },
    {
      "cell_type": "code",
      "metadata": {
        "id": "7ly5GpPgQe5t",
        "colab_type": "code",
        "colab": {
          "base_uri": "https://localhost:8080/",
          "height": 35
        },
        "outputId": "52586204-2e8c-493c-8db6-8feebab16906"
      },
      "source": [
        "#1\n",
        "\n",
        "print('Hello World!!')\n"
      ],
      "execution_count": null,
      "outputs": [
        {
          "output_type": "stream",
          "text": [
            "Hello World!!\n"
          ],
          "name": "stdout"
        }
      ]
    },
    {
      "cell_type": "code",
      "metadata": {
        "id": "9Tw-w355NEQG",
        "colab_type": "code",
        "colab": {
          "base_uri": "https://localhost:8080/",
          "height": 35
        },
        "outputId": "ea84a887-afa0-4b83-afbc-0722aefbd9b3"
      },
      "source": [
        "#2\n",
        "\n",
        "number1= 3\n",
        "number2= 4\n",
        "number3= 6\n",
        "\n",
        "print(\"The sum of the three numbers is: \" + str(number1 + number2 + number3))"
      ],
      "execution_count": null,
      "outputs": [
        {
          "output_type": "stream",
          "text": [
            "The sum of the three numbers is: 13\n"
          ],
          "name": "stdout"
        }
      ]
    },
    {
      "cell_type": "code",
      "metadata": {
        "id": "Wyed_8BYNEfD",
        "colab_type": "code",
        "colab": {
          "base_uri": "https://localhost:8080/",
          "height": 87
        },
        "outputId": "a2335852-93c4-4fc1-dff3-1d472a108647"
      },
      "source": [
        "#3\n",
        "\n",
        "firstName= input(\"What is your first name?\")\n",
        "lastName= input(\"What is your last name?\")\n",
        "age= input(\"What is your age?\")\n",
        "\n",
        "print(firstName + \" \" + lastName + \" is \" + age + \" years old!\")"
      ],
      "execution_count": null,
      "outputs": [
        {
          "output_type": "stream",
          "text": [
            "What is your first name?Sammy\n",
            "What is your last name?Cemek\n",
            "What is your age?18\n",
            "Sammy Cemek is 18 years old!\n"
          ],
          "name": "stdout"
        }
      ]
    },
    {
      "cell_type": "code",
      "metadata": {
        "id": "8cXCC_lRNEog",
        "colab_type": "code",
        "colab": {
          "base_uri": "https://localhost:8080/",
          "height": 52
        },
        "outputId": "4fbd705e-ff87-45ff-f3f9-df3aea7f6496"
      },
      "source": [
        "#4 \n",
        "\n",
        "name= input(\"your name?\")\n",
        "print(\" Happy birthday to You,\"*2 + \" Happy birthday dear \" + name + \",\" + \" Happy birthday to You!\")"
      ],
      "execution_count": null,
      "outputs": [
        {
          "output_type": "stream",
          "text": [
            "your name?Ahmet\n",
            " Happy birthday to You, Happy birthday to You, Happy birthday dear Ahmet, Happy birthday to You!\n"
          ],
          "name": "stdout"
        }
      ]
    },
    {
      "cell_type": "code",
      "metadata": {
        "id": "6nDKOVumPuyB",
        "colab_type": "code",
        "colab": {
          "base_uri": "https://localhost:8080/",
          "height": 69
        },
        "outputId": "a1155b03-79a3-4fec-b4fb-ed4cd5884321"
      },
      "source": [
        "#5\n",
        "name= input(\"What is your name?\")\n",
        "\n",
        "answer= input(\"Is it your birthday today \" + name +\"?\")\n",
        "if answer == \"yes\":\n",
        "  print(\"Happy birthday to You,\"*2 + \" Happy birthday dear \" + name + \",\" + \" Happy birthday to You!\")\n",
        "if not answer == \"yes\":\n",
        "  print(\"Oh okay never mind\")\n"
      ],
      "execution_count": null,
      "outputs": [
        {
          "output_type": "stream",
          "text": [
            "What is your name?Sammy\n",
            "Is it your birthday today Sammy?no\n",
            "Oh okay never mind\n"
          ],
          "name": "stdout"
        }
      ]
    },
    {
      "cell_type": "code",
      "metadata": {
        "id": "9Z38YDBsPu9t",
        "colab_type": "code",
        "colab": {
          "base_uri": "https://localhost:8080/",
          "height": 69
        },
        "outputId": "c39fd63e-0457-41f2-af0b-99e2d7f9180f"
      },
      "source": [
        "#6\n",
        "\n",
        "small_number = input(\"Pick a number: \")\n",
        "big_number = input(\"Pick a number bigger than your first number: \")\n",
        "result = (int(big_number) - int(small_number))\n",
        "\n",
        "print(\"The difference between the larger number and the smaller number is: \" + str(result))\n"
      ],
      "execution_count": null,
      "outputs": [
        {
          "output_type": "stream",
          "text": [
            "Pick a number: 1000\n",
            "Pick a number bigger than your first number: 6999\n",
            "The difference between the larger number and the smaller number is: 5999\n"
          ],
          "name": "stdout"
        }
      ]
    },
    {
      "cell_type": "code",
      "metadata": {
        "id": "pf62geTyPvGC",
        "colab_type": "code",
        "colab": {
          "base_uri": "https://localhost:8080/",
          "height": 52
        },
        "outputId": "fe0d9604-6ecf-4c14-d9c4-c40894d12ed2"
      },
      "source": [
        "#7\n",
        "\n",
        "answer = input(\"What is the number in your New College email address? \")\n",
        "\n",
        "if answer == str(24):\n",
        "  print(\"You entered New College in 2020\")\n",
        "\n",
        "if answer == str(23):\n",
        "  print(\"You entered New College in 2020\")\n",
        "\n",
        "if answer == str(19):\n",
        "  print(\"You entered New College in 2019\")\n",
        "\n",
        "if answer == str(18):\n",
        "  print(\"You entered New College in 2018\")\n",
        "\n",
        "if answer == str(17):\n",
        "  print(\"You entered New College in 2017\")\n",
        "\n",
        "if answer < str(17):\n",
        "  print(\"You are already graduated (Hopefully)\")"
      ],
      "execution_count": null,
      "outputs": [
        {
          "output_type": "stream",
          "text": [
            "What is the number in your New College email address? 16\n",
            "You are already graduated (Hopefully)\n"
          ],
          "name": "stdout"
        }
      ]
    },
    {
      "cell_type": "code",
      "metadata": {
        "id": "f6cnD46DfS6m",
        "colab_type": "code",
        "colab": {}
      },
      "source": [
        ""
      ],
      "execution_count": null,
      "outputs": []
    }
  ]
}