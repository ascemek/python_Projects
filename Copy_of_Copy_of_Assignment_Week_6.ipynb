{
  "nbformat": 4,
  "nbformat_minor": 0,
  "metadata": {
    "colab": {
      "name": "Copy of Copy of Assignment Week 6.ipynb",
      "provenance": [],
      "include_colab_link": true
    },
    "kernelspec": {
      "name": "python3",
      "display_name": "Python 3"
    }
  },
  "cells": [
    {
      "cell_type": "markdown",
      "metadata": {
        "id": "view-in-github",
        "colab_type": "text"
      },
      "source": [
        "<a href=\"https://colab.research.google.com/github/ascemek/python_projects/blob/master/Copy_of_Copy_of_Assignment_Week_6.ipynb\" target=\"_parent\"><img src=\"https://colab.research.google.com/assets/colab-badge.svg\" alt=\"Open In Colab\"/></a>"
      ]
    },
    {
      "cell_type": "markdown",
      "metadata": {
        "id": "OmbYt8lDcUhp"
      },
      "source": [
        "# WEEK 6 ASSIGNMENT : Introduction to Lists\n",
        "\n",
        "----------------\n",
        "\n",
        "Due to the exam, the assignment this week is a bit shorter than ussual. \n",
        "\n",
        "You are encouraged to create a new blank workbook for your solutions. You should then save your solutions into GitHub.\n",
        "\n",
        "**0)** Create a list that contains \"Hello\" and \"World\". Write a program that prints out this list. \n",
        "\n",
        "**1)** Create a program that starts with an empty list and then uses a while loop to repeatedly ask the user to enter the name of a food. The program should add each food to the list. The program should stop when the user enters \"stop\".\n",
        "\n",
        "Note: There is an example similar to this in the worksheet.\n",
        "\n",
        "**2)** Use the list that you created in Problem 2. Write additional Python instructions that ask the user to enter a food to delete from the list. You should then delete the requested food from the list and print the list.\n",
        "\n",
        "**3)** Use the list that you created in Problem 2. Write a loop that goes through every element of the list checks whether the food is \"olives\" (or \"olive\") and prints out the food name provided that it is not \"olives\". (I despise \"olives\", wouldn't want to print out that stuff!)\n",
        "\n",
        "To test out your program, you may need to re-run the code from Problem 2 to create a list that contains \"olives\" so you can verify that your code for Problem 4 correctly omits \"olives\" when printing the list.  \n"
      ]
    },
    {
      "cell_type": "code",
      "metadata": {
        "id": "hXAFTTuTJGrl",
        "outputId": "81391282-c1de-487e-b474-041373c01468",
        "colab": {
          "base_uri": "https://localhost:8080/",
          "height": 52
        }
      },
      "source": [
        "#0\n",
        "\n",
        "list = [\"Hello\", \"World\"]\n",
        "print(list[0])\n",
        "print(list[1])\n"
      ],
      "execution_count": null,
      "outputs": [
        {
          "output_type": "stream",
          "text": [
            "Hello\n",
            "World\n"
          ],
          "name": "stdout"
        }
      ]
    },
    {
      "cell_type": "code",
      "metadata": {
        "id": "lY6KYfASJG2s",
        "outputId": "182b9a53-2c90-4347-a267-3f2a8da3facd",
        "colab": {
          "base_uri": "https://localhost:8080/",
          "height": 87
        }
      },
      "source": [
        "#1\n",
        "\n",
        "name_of_food = []\n",
        "food_num = input(\"Add a food name?\")\n",
        "\n",
        "while food_num != \"stop\":\n",
        "  name_of_food.append(food_num)\n",
        "  food_num = input(\"Add a food name?\")\n",
        "\n",
        "print(name_of_food)\n"
      ],
      "execution_count": null,
      "outputs": [
        {
          "output_type": "stream",
          "text": [
            "Add a food name?Banana\n",
            "Add a food name?apple\n",
            "Add a food name?stop\n",
            "['Banana', 'apple']\n"
          ],
          "name": "stdout"
        }
      ]
    },
    {
      "cell_type": "code",
      "metadata": {
        "id": "xHrQwZRuJHA-",
        "outputId": "4cb4dce4-6d8e-42fd-f9ff-dc0c253980c3",
        "colab": {
          "base_uri": "https://localhost:8080/",
          "height": 139
        }
      },
      "source": [
        "#2\n",
        "\n",
        "name_of_food = []\n",
        "food_num = input(\"Add a food name?\")\n",
        "\n",
        "while food_num != \"stop\":\n",
        "  name_of_food.append(food_num)\n",
        "  food_num = input(\"Add a food name?\")\n",
        "print(name_of_food)\n",
        "\n",
        "food_num = input(\"Remove a food name?\")\n",
        "while food_num != \"stop\":\n",
        "  name_of_food.remove(food_num)\n",
        "  food_num = input(\"Remove a food name?\")\n",
        "print(name_of_food)"
      ],
      "execution_count": null,
      "outputs": [
        {
          "output_type": "stream",
          "text": [
            "Add a food name?apple\n",
            "Add a food name?yogurt\n",
            "Add a food name?stop\n",
            "['apple', 'yogurt']\n",
            "Remove a food name?apple\n",
            "Remove a food name?stop\n",
            "['yogurt']\n"
          ],
          "name": "stdout"
        }
      ]
    },
    {
      "cell_type": "code",
      "metadata": {
        "id": "XKt_5if9JHeB",
        "outputId": "479791e7-ab1f-4432-9d78-aee566198906",
        "colab": {
          "base_uri": "https://localhost:8080/",
          "height": 208
        }
      },
      "source": [
        "#3\n",
        "\n",
        "name_of_food = []\n",
        "food_num = input(\"Add a food name?\")\n",
        "\n",
        "while food_num != \"stop\":\n",
        "  name_of_food.append(food_num)\n",
        "  food_num = input(\"Add a food name?\")\n",
        "print(name_of_food)\n",
        "\n",
        "food_num = input(\"Remove a food name?\")\n",
        "while food_num != \"stop\":\n",
        "  name_of_food.remove(food_num)\n",
        "  food_num = input(\"Remove a food name?\")\n",
        "\n",
        "for food_num in name_of_food:\n",
        "  if food_num == \"olive\":\n",
        "    name_of_food.remove(food_num)\n",
        "\n",
        "print(name_of_food)\n"
      ],
      "execution_count": null,
      "outputs": [
        {
          "output_type": "stream",
          "text": [
            "Add a food name?apple\n",
            "Add a food name?banana\n",
            "Add a food name?juice\n",
            "Add a food name?beer\n",
            "Add a food name?coke\n",
            "Add a food name?olive\n",
            "Add a food name?chips\n",
            "Add a food name?stop\n",
            "['apple', 'banana', 'juice', 'beer', 'coke', 'olive', 'chips']\n",
            "Remove a food name?stop\n",
            "['apple', 'banana', 'juice', 'beer', 'coke', 'chips']\n"
          ],
          "name": "stdout"
        }
      ]
    }
  ]
}