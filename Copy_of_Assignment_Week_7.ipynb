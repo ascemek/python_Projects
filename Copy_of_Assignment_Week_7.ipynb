{
  "nbformat": 4,
  "nbformat_minor": 0,
  "metadata": {
    "colab": {
      "name": "Copy of Assignment Week 7.ipynb",
      "provenance": [],
      "include_colab_link": true
    },
    "kernelspec": {
      "name": "python3",
      "display_name": "Python 3"
    }
  },
  "cells": [
    {
      "cell_type": "markdown",
      "metadata": {
        "id": "view-in-github",
        "colab_type": "text"
      },
      "source": [
        "<a href=\"https://colab.research.google.com/github/ascemek/python_projects/blob/master/Copy_of_Assignment_Week_7.ipynb\" target=\"_parent\"><img src=\"https://colab.research.google.com/assets/colab-badge.svg\" alt=\"Open In Colab\"/></a>"
      ]
    },
    {
      "cell_type": "markdown",
      "metadata": {
        "id": "ssVL6QEUKk_L"
      },
      "source": [
        "# WEEK 7 ASSIGNMENT : Working with Strings\n",
        "\n",
        "----------------\n",
        "\n",
        "You are encouraged to create a new blank workbook for your solutions. You should then save your solutions into GitHub.\n",
        "\n",
        "**0)** Write a program that prints the following by using the VARIABLE.upper() and VARIABLE.lower() commands:\n",
        "\"Hello World\"\n",
        "\"HELLO WORLD\"\n",
        "\"hello world\"\n",
        "\n",
        "**1)** Define a python function, hasVowels(str), that takes in a string as input to the function and checks to see if the string contains any vowels. Your function should return True if the string has a vowel and False if the string does not have a vowel. \n",
        "\n",
        "If your **hasVowels** function is written correctly then the following test code should work:\n",
        " "
      ]
    },
    {
      "cell_type": "code",
      "metadata": {
        "id": "LMqFbOGgRBym",
        "outputId": "df5af7ae-839d-49fd-ce8a-9603c16904e3",
        "colab": {
          "base_uri": "https://localhost:8080/",
          "height": 52
        }
      },
      "source": [
        "#0\n",
        "\n",
        "#Convert to uppercase\n",
        "word = \"Hello World\"\n",
        "word = word.upper()\n",
        "print (word)\n",
        "\n",
        "#Converted to lowercase\n",
        "word = \"Hello World\"\n",
        "word = word.lower()\n",
        "print (word)"
      ],
      "execution_count": 6,
      "outputs": [
        {
          "output_type": "stream",
          "text": [
            "HELLO WORLD\n",
            "hello world\n"
          ],
          "name": "stdout"
        }
      ]
    },
    {
      "cell_type": "code",
      "metadata": {
        "id": "6wfZSJ1-RCCk",
        "outputId": "f17070e9-0981-48e5-c420-c0dc98c9be46",
        "colab": {
          "base_uri": "https://localhost:8080/",
          "height": 52
        }
      },
      "source": [
        "#1\n",
        "\n",
        "str = input(\"Enter a word:\")\n",
        "\n",
        "def hasVowels(str):\n",
        "  str = str.lower()\n",
        "  if \"a\" in str:\n",
        "    return True\n",
        "  if \"e\" in str:\n",
        "    return True\n",
        "  if \"i\" in str:\n",
        "    return True\n",
        "  if \"o\" in str:\n",
        "    return True\n",
        "  if \"u\" in str:\n",
        "    return True\n",
        "  else:\n",
        "    return False\n",
        "\n",
        "hasVowels(str)\n"
      ],
      "execution_count": 2,
      "outputs": [
        {
          "output_type": "stream",
          "text": [
            "Enter a word:apple\n"
          ],
          "name": "stdout"
        },
        {
          "output_type": "execute_result",
          "data": {
            "text/plain": [
              "True"
            ]
          },
          "metadata": {
            "tags": []
          },
          "execution_count": 2
        }
      ]
    },
    {
      "cell_type": "code",
      "metadata": {
        "id": "2udnQYLbKddY",
        "outputId": "1a3cd3f8-0133-4a3b-b361-23ba3c0c7104",
        "colab": {
          "base_uri": "https://localhost:8080/",
          "height": 52
        }
      },
      "source": [
        "word = \"berry\"\n",
        "not_word = \"fghjk\"\n",
        "\n",
        "if hasVowels(word):\n",
        "  print(\"The string\", word, \"has at least one vowel\")\n",
        "else:\n",
        "  print(\"The string\", word, \"does not have any vowels\")\n",
        "\n",
        "if hasVowels(not_word):\n",
        "  print(\"The string\", not_word, \"has at least one vowel\")\n",
        "else:\n",
        "  print(\"The string\", not_word, \"does not have any vowels\")"
      ],
      "execution_count": 20,
      "outputs": [
        {
          "output_type": "stream",
          "text": [
            "The string berry has at least one vowel\n",
            "The string fghjk does not have any vowels\n"
          ],
          "name": "stdout"
        }
      ]
    },
    {
      "cell_type": "markdown",
      "metadata": {
        "id": "wMs6Ap_qMJDo"
      },
      "source": [
        "**2)** Write a Python program that makes use of your existing **hasVowels** function to do the following task. Repeatedly ask the user to enter a word with vowels from the keyboard, you should stop when the user correctly enters a word with vowels. \n",
        "\n",
        "For example, if the user first types \"fhbjk\" and then types \"mbbccv\" you should keep asking the user to try again until they finally successfully enter something that has at least one vowel."
      ]
    },
    {
      "cell_type": "code",
      "metadata": {
        "id": "35m7WpBXsKsF",
        "outputId": "bd51aaef-65a8-4632-ecd4-07003bae120e",
        "colab": {
          "base_uri": "https://localhost:8080/",
          "height": 69
        }
      },
      "source": [
        "#2\n",
        "\n",
        "str = input(\"Enter a word:\")\n",
        "while hasVowels(str) == False:\n",
        "  str = input(\"Enter a word:\")\n"
      ],
      "execution_count": 108,
      "outputs": [
        {
          "output_type": "stream",
          "text": [
            "Enter a word:fhbjk\n",
            "Enter a word:mbbccv\n",
            "Enter a word:apple\n"
          ],
          "name": "stdout"
        }
      ]
    },
    {
      "cell_type": "markdown",
      "metadata": {
        "id": "3zKsF4QiMxTu"
      },
      "source": [
        "**3)** Define a Python function called, countVowels(str), that takes in a string as input to the function and returns the number of vowels in the string. \n",
        "\n",
        "You should have a count variable inside the function and then loop through the letters in the string and check each one to see if it is a vowel. \n",
        "\n",
        "If your **countVowels** function is written correctly then the following test code should work.\n",
        "\n"
      ]
    },
    {
      "cell_type": "code",
      "metadata": {
        "id": "FeArx8J5d6U5",
        "outputId": "ac4ec21c-3bd0-4033-9f62-fd517c46fd42",
        "colab": {
          "base_uri": "https://localhost:8080/",
          "height": 52
        }
      },
      "source": [
        "#3\n",
        "\n",
        "str = input(\"Enter a word:\")\n",
        "\n",
        "vowels = ['a', 'e', 'i', 'o', 'u'] \n",
        "\n",
        "def countVowels(str):\n",
        "  counter = 0\n",
        "  for v in str:\n",
        "    if hasVowels(v):\n",
        "      counter = counter + 1\n",
        "  return counter\n",
        "\n",
        "countVowels(str)\n"
      ],
      "execution_count": 129,
      "outputs": [
        {
          "output_type": "stream",
          "text": [
            "Enter a word:apple\n"
          ],
          "name": "stdout"
        },
        {
          "output_type": "execute_result",
          "data": {
            "text/plain": [
              "2"
            ]
          },
          "metadata": {
            "tags": []
          },
          "execution_count": 129
        }
      ]
    },
    {
      "cell_type": "code",
      "metadata": {
        "id": "JTWk3nZWNSTO",
        "outputId": "a58befce-a1f9-42b3-c4ee-41f6dfd0b6c0",
        "colab": {
          "base_uri": "https://localhost:8080/",
          "height": 52
        }
      },
      "source": [
        "name1 = \"matthew\"\n",
        "name2 = \"lepinski\"\n",
        "\n",
        "count1 = countVowels(name1)\n",
        "count2 = countVowels(name2)\n",
        "\n",
        "print(name1, \"has\", count1, \"vowels in it\")\n",
        "print(name2, \"has\", count2, \"vowels in it\")"
      ],
      "execution_count": 130,
      "outputs": [
        {
          "output_type": "stream",
          "text": [
            "matthew has 2 vowels in it\n",
            "lepinski has 3 vowels in it\n"
          ],
          "name": "stdout"
        }
      ]
    },
    {
      "cell_type": "markdown",
      "metadata": {
        "id": "6JyIDGJyNmJF"
      },
      "source": [
        "**4)** Write a Python program that starts with an empty list and then asks the user to enter a word. The program should add the word to the list and then ask for a new word (and add the new word to the list) and continue like this until the user enters \"stop\" or \"STOP\" or \"STop\" or any variation like \"sTOP\" or \"stoP\".\n",
        "\n",
        "Note: We did something similar to this last week, you might want to look at the Week 6 assignment or worksheet for inspiration"
      ]
    },
    {
      "cell_type": "code",
      "metadata": {
        "id": "IN2rJE9L-EBr",
        "outputId": "5a8fbb90-97f9-4f36-8e4f-89f230406d05",
        "colab": {
          "base_uri": "https://localhost:8080/",
          "height": 121
        }
      },
      "source": [
        "#4\n",
        "\n",
        "word_list = []\n",
        "word = input(\"Enter a word:\")\n",
        "\n",
        "while word.lower() != \"stop\":\n",
        "  word_list.append(word)\n",
        "  word = input(\"Enter a word:\")\n",
        "print (word_list)"
      ],
      "execution_count": 139,
      "outputs": [
        {
          "output_type": "stream",
          "text": [
            "Enter a word:apple\n",
            "Enter a word:laptop\n",
            "Enter a word:pencil\n",
            "Enter a word:python\n",
            "Enter a word:STop\n",
            "['apple', 'laptop', 'pencil', 'python']\n"
          ],
          "name": "stdout"
        }
      ]
    },
    {
      "cell_type": "markdown",
      "metadata": {
        "id": "QmWEmSA9OXtN"
      },
      "source": [
        "**5)** Use your **countVowels** funciton from problem 3 and your list of words from problem 4 together to figure out the total number of vowels in all of the words that the user enters. \n",
        "\n",
        "Note: Ideally, you should not count the 1 \"o\" in the \"stop\" that they typed at the end"
      ]
    },
    {
      "cell_type": "code",
      "metadata": {
        "id": "sW9CgMecb0Cs",
        "outputId": "e55b7830-4f06-4841-d701-ac1f81e0cac4",
        "colab": {
          "base_uri": "https://localhost:8080/",
          "height": 121
        }
      },
      "source": [
        "#5\n",
        "\n",
        "def countVowels(str):\n",
        "  counter = 0\n",
        "  for v in str:\n",
        "    if hasVowels(v):\n",
        "      counter = counter + 1\n",
        "  return counter\n",
        "\n",
        "countVowels(str)\n",
        "\n",
        "word_list = []         \n",
        "word = input('Enter a word:').lower()  \n",
        "counter = 0\n",
        "\n",
        "while not word == 'stop':\n",
        "  word_list.append(word)         \n",
        "  word = input('Enter a word:').lower()\n",
        "  \n",
        "for word in word_list:\n",
        "  counter = counter + countVowels(word)\n",
        "\n",
        "print(counter)"
      ],
      "execution_count": 40,
      "outputs": [
        {
          "output_type": "stream",
          "text": [
            "Enter a word:aaa\n",
            "Enter a word:kljdksj\n",
            "Enter a word:euoai\n",
            "Enter a word:klaaaejdjkd\n",
            "Enter a word:stop\n",
            "12\n"
          ],
          "name": "stdout"
        }
      ]
    }
  ]
}