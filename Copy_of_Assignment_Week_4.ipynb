{
  "nbformat": 4,
  "nbformat_minor": 0,
  "metadata": {
    "colab": {
      "name": "Copy of Assignment Week 4.ipynb",
      "provenance": [],
      "include_colab_link": true
    },
    "kernelspec": {
      "name": "python3",
      "display_name": "Python 3"
    }
  },
  "cells": [
    {
      "cell_type": "markdown",
      "metadata": {
        "id": "view-in-github",
        "colab_type": "text"
      },
      "source": [
        "<a href=\"https://colab.research.google.com/github/ascemek/python_projects/blob/master/Copy_of_Assignment_Week_4.ipynb\" target=\"_parent\"><img src=\"https://colab.research.google.com/assets/colab-badge.svg\" alt=\"Open In Colab\"/></a>"
      ]
    },
    {
      "cell_type": "markdown",
      "metadata": {
        "id": "ps76LskfTCG-",
        "colab_type": "text"
      },
      "source": [
        "# WEEK 4 ASSIGNMENT : Functions\n",
        "\n",
        "----------------\n",
        "\n",
        "**0)** Define (def) a Python Function that takes no input and prints \"Hello World\"\n",
        "\n",
        "**1)** Define a Python Function that prints a message of your choice five times in a row. Please do this by putting a loop inside your function. \n",
        "\n",
        "**2)** Modify your function from the previous question so that it takes a number as input which tells the function how many times to print the message. That is, you should make your function more flexible by replacing the fixed number 5 with an input that determines how many times the message is printed. \n",
        "\n",
        "**3)** Define a function called square that takes in a number and returns the square of that number. Recall that the square of a number is just the number times itself. \n",
        "\n",
        "If you have done number (3) correctly, the following Python code should print 9 and 25.\n",
        "\n"
      ]
    },
    {
      "cell_type": "code",
      "metadata": {
        "id": "XgOcosRDTdLq",
        "colab_type": "code",
        "colab": {
          "base_uri": "https://localhost:8080/",
          "height": 35
        },
        "outputId": "6956be32-ea73-4c98-bfc7-63f78528ef63"
      },
      "source": [
        "X = square(3)\n",
        "Y= square(5)\n",
        "print(\"The answers are\", X, \"and\", Y)"
      ],
      "execution_count": null,
      "outputs": [
        {
          "output_type": "stream",
          "text": [
            "The answers are 9 and 25\n"
          ],
          "name": "stdout"
        }
      ]
    },
    {
      "cell_type": "markdown",
      "metadata": {
        "id": "Dsj0vYtxTdnS",
        "colab_type": "text"
      },
      "source": [
        "**4)**  Define a function called bigger10 that takes in a number as input and returns whichever is bigger, the number or 10. \n",
        "\n",
        "To do this problem you will need to put an if statement inside your function.\n",
        "\n",
        "bigger10(8) returns 10  ... since 10 is the larger of 10 and 8.\n",
        "\n",
        "bigger10(2) returns 10  ... since 10 is the larger of 10 and 2.\n",
        "\n",
        "bigger10(15) returns 15 ... since 15 is the larger of 10 and 15.\n",
        "\n",
        "bigger10(20) returns 20 ... since 20 is the larger of 10 and 20.\n",
        "\n",
        "**5)**  You can make a function take two inputs by putting two inputs inside the parentheses and separating them with a comma. \n",
        "\n",
        "Define a function called bigger that takes in two numbers as input and returns the bigger of the two numbers\n",
        "\n",
        "bigger(10, 8) returns 10 .... since 10 is the larger of 10 and 8\n",
        "\n",
        "bigger(12, 5) returns 12 ... since 12 is the larger of 12 and 5\n",
        "\n",
        "bigger(3, 5) returns 5 ... since 5 is the larger of 3 and 5\n",
        "\n",
        "bigger(12, 20) returns 20 ... since 20 is the larger of 12 and 20\n",
        "\n",
        "**6)** Write a short program that uses the function bigger which you just defined. Your program should ask the user to enter their age, and then ask the user to enter their friend's age. Finally, the program should use the bigger function and then print out the message:\n",
        "\n",
        "\"The older of the two people is **** years old\" \n",
        "\n",
        "(Where the **** should be replaced by the age of the older person)\n",
        "\n"
      ]
    },
    {
      "cell_type": "markdown",
      "metadata": {
        "id": "ELH0N3BwT2vN",
        "colab_type": "text"
      },
      "source": [
        "-------\n",
        "\n",
        "Problems 0 through 6 are the required problems for this week, but if you are able to do Problem 7 it will help you next week\n",
        "\n",
        "**7)**  In the previous assignment, you created a guessing game. If you didn't get it working perfectly, that is fine, now is a great time to revisit it and get it working. \n",
        "\n",
        "The guessing game starts with a number and then repeatedly asks the user to guess the number. After each guess the game should tell the user whether their guess was \"too high\" or \"too low\". \n",
        "\n",
        "For this assignment, I want you to put your guessing game into a function called play_the_game. The function should take one input which is the target number that the player is trying to guess. The function should return the number of tries it takes the player to guess the number. \n",
        "\n",
        "By putting this in a function, I could write this in my main program:\n"
      ]
    },
    {
      "cell_type": "code",
      "metadata": {
        "id": "IJ8cuY5uT3Qu",
        "colab_type": "code",
        "colab": {}
      },
      "source": [
        "score = play_the_game(51)\n",
        "print(\"It took you\", score, \"tries to guess the number)"
      ],
      "execution_count": null,
      "outputs": []
    },
    {
      "cell_type": "markdown",
      "metadata": {
        "id": "0XCfjB1oUGxn",
        "colab_type": "text"
      },
      "source": [
        "Also, without changing the function at all, I could play the guessing game with a random target number"
      ]
    },
    {
      "cell_type": "code",
      "metadata": {
        "id": "jPl7D-DoUJLK",
        "colab_type": "code",
        "colab": {}
      },
      "source": [
        "import random\n",
        "target_number = random.randint(0,100)\n",
        "score = play_the_game(target_number)\n",
        "print(\"It took you\", score, \"tries to guess the number)"
      ],
      "execution_count": null,
      "outputs": []
    },
    {
      "cell_type": "code",
      "metadata": {
        "id": "Hc7TsQy2tpaF",
        "colab_type": "code",
        "colab": {
          "base_uri": "https://localhost:8080/",
          "height": 52
        },
        "outputId": "ad7a66c3-9ac2-4b1d-ec0a-f46fd27fc051"
      },
      "source": [
        "#0\n",
        "\n",
        "def function():\n",
        "  print(\"Hello World\")\n",
        "\n",
        "function()"
      ],
      "execution_count": null,
      "outputs": [
        {
          "output_type": "stream",
          "text": [
            "Hello World\n",
            "Hello World\n"
          ],
          "name": "stdout"
        }
      ]
    },
    {
      "cell_type": "code",
      "metadata": {
        "id": "Cs6gG9tptpuH",
        "colab_type": "code",
        "colab": {
          "base_uri": "https://localhost:8080/",
          "height": 121
        },
        "outputId": "ab0853e4-e8e0-46e3-f454-1506bffb2d9d"
      },
      "source": [
        "#1\n",
        "\n",
        "urmessage = input(\"What's your message? \")\n",
        "\n",
        "def message(urmessage):\n",
        "  x = 0\n",
        "  while x < 5:\n",
        "    print (urmessage)\n",
        "    x = x + 1\n",
        "\n",
        "message(urmessage)"
      ],
      "execution_count": null,
      "outputs": [
        {
          "output_type": "stream",
          "text": [
            "What's your message? Have a good night!\n",
            "Have a good night!\n",
            "Have a good night!\n",
            "Have a good night!\n",
            "Have a good night!\n",
            "Have a good night!\n"
          ],
          "name": "stdout"
        }
      ]
    },
    {
      "cell_type": "code",
      "metadata": {
        "id": "6zoLfWzmtsfe",
        "colab_type": "code",
        "colab": {
          "base_uri": "https://localhost:8080/",
          "height": 173
        },
        "outputId": "fbfd19b7-679b-4ac0-9087-6d940dc1aeca"
      },
      "source": [
        "#2\n",
        "num = int(input(\"How many times do want to print a message? \"))\n",
        "urmessage = input(\"What's your message? \")\n",
        "\n",
        "def message(urmessage):\n",
        "  x = 0\n",
        "  while x < num:\n",
        "    print (urmessage)\n",
        "    x = x + 1\n",
        "\n",
        "message(urmessage)"
      ],
      "execution_count": null,
      "outputs": [
        {
          "output_type": "stream",
          "text": [
            "How many times do want to print a message? 7\n",
            "What's your message? Do your homework\n",
            "Do your homework\n",
            "Do your homework\n",
            "Do your homework\n",
            "Do your homework\n",
            "Do your homework\n",
            "Do your homework\n",
            "Do your homework\n"
          ],
          "name": "stdout"
        }
      ]
    },
    {
      "cell_type": "code",
      "metadata": {
        "id": "DOS80seRYyvb",
        "colab_type": "code",
        "colab": {
          "base_uri": "https://localhost:8080/",
          "height": 374
        },
        "outputId": "e328fb6b-6ac1-49dc-cd17-36874d7409ca"
      },
      "source": [
        "#3\n",
        "\n",
        "def square(a):\n",
        "  return(a*a)\n",
        "\n",
        "X = square(3)\n",
        "Y= square(5)\n",
        "print(\"The answers are\", X, \"and\", Y)\n",
        "\n",
        "square(a)\n",
        "\n",
        "# The code works but it shows an error message that says unsupported operand type(s) for *: 'dict' and 'dict'\n",
        "# I couldn't figure out why"
      ],
      "execution_count": null,
      "outputs": [
        {
          "output_type": "stream",
          "text": [
            "The answers are 9 and 25\n"
          ],
          "name": "stdout"
        },
        {
          "output_type": "error",
          "ename": "TypeError",
          "evalue": "ignored",
          "traceback": [
            "\u001b[0;31m---------------------------------------------------------------------------\u001b[0m",
            "\u001b[0;31mTypeError\u001b[0m                                 Traceback (most recent call last)",
            "\u001b[0;32m<ipython-input-44-f9254483523d>\u001b[0m in \u001b[0;36m<module>\u001b[0;34m()\u001b[0m\n\u001b[1;32m      8\u001b[0m \u001b[0mprint\u001b[0m\u001b[0;34m(\u001b[0m\u001b[0;34m\"The answers are\"\u001b[0m\u001b[0;34m,\u001b[0m \u001b[0mX\u001b[0m\u001b[0;34m,\u001b[0m \u001b[0;34m\"and\"\u001b[0m\u001b[0;34m,\u001b[0m \u001b[0mY\u001b[0m\u001b[0;34m)\u001b[0m\u001b[0;34m\u001b[0m\u001b[0;34m\u001b[0m\u001b[0m\n\u001b[1;32m      9\u001b[0m \u001b[0;34m\u001b[0m\u001b[0m\n\u001b[0;32m---> 10\u001b[0;31m \u001b[0msquare\u001b[0m\u001b[0;34m(\u001b[0m\u001b[0ma\u001b[0m\u001b[0;34m)\u001b[0m\u001b[0;34m\u001b[0m\u001b[0;34m\u001b[0m\u001b[0m\n\u001b[0m\u001b[1;32m     11\u001b[0m \u001b[0;34m\u001b[0m\u001b[0m\n\u001b[1;32m     12\u001b[0m \u001b[0;31m# The code works but it shows an error message that says unsupported operand type(s) for *: 'dict' and 'dict'\u001b[0m\u001b[0;34m\u001b[0m\u001b[0;34m\u001b[0m\u001b[0;34m\u001b[0m\u001b[0m\n",
            "\u001b[0;32m<ipython-input-44-f9254483523d>\u001b[0m in \u001b[0;36msquare\u001b[0;34m(a)\u001b[0m\n\u001b[1;32m      2\u001b[0m \u001b[0;34m\u001b[0m\u001b[0m\n\u001b[1;32m      3\u001b[0m \u001b[0;32mdef\u001b[0m \u001b[0msquare\u001b[0m\u001b[0;34m(\u001b[0m\u001b[0ma\u001b[0m\u001b[0;34m)\u001b[0m\u001b[0;34m:\u001b[0m\u001b[0;34m\u001b[0m\u001b[0;34m\u001b[0m\u001b[0m\n\u001b[0;32m----> 4\u001b[0;31m   \u001b[0;32mreturn\u001b[0m\u001b[0;34m(\u001b[0m\u001b[0ma\u001b[0m\u001b[0;34m*\u001b[0m\u001b[0ma\u001b[0m\u001b[0;34m)\u001b[0m\u001b[0;34m\u001b[0m\u001b[0;34m\u001b[0m\u001b[0m\n\u001b[0m\u001b[1;32m      5\u001b[0m \u001b[0;34m\u001b[0m\u001b[0m\n\u001b[1;32m      6\u001b[0m \u001b[0mX\u001b[0m \u001b[0;34m=\u001b[0m \u001b[0msquare\u001b[0m\u001b[0;34m(\u001b[0m\u001b[0;36m3\u001b[0m\u001b[0;34m)\u001b[0m\u001b[0;34m\u001b[0m\u001b[0;34m\u001b[0m\u001b[0m\n",
            "\u001b[0;31mTypeError\u001b[0m: unsupported operand type(s) for *: 'dict' and 'dict'"
          ]
        }
      ]
    },
    {
      "cell_type": "code",
      "metadata": {
        "id": "88a0KhCSY2Vl",
        "colab_type": "code",
        "colab": {
          "base_uri": "https://localhost:8080/",
          "height": 53
        },
        "outputId": "d1152e15-10ca-46bb-9df9-a34493f4f48e"
      },
      "source": [
        "#4\n",
        "number = input(\"Pick a number? \")\n",
        "def bigger10(number):\n",
        "  if int(number) > 10:\n",
        "    return \"The answer is \" + number + \" since \" + number + \" is the larger of 10 and \"+ number\n",
        "  elif int(number) < 10:\n",
        "    return \"The answer is 10 since\" \"10 is the larger of 10 and \"+ number\n",
        "  else:\n",
        "    return (\"The number you picked is equal to 10\")\n",
        "\n",
        "bigger10(number)"
      ],
      "execution_count": null,
      "outputs": [
        {
          "output_type": "stream",
          "text": [
            "Pick a number? 12\n"
          ],
          "name": "stdout"
        },
        {
          "output_type": "execute_result",
          "data": {
            "application/vnd.google.colaboratory.intrinsic+json": {
              "type": "string"
            },
            "text/plain": [
              "'The answer is 12 since 12 is the larger of 10 and 12'"
            ]
          },
          "metadata": {
            "tags": []
          },
          "execution_count": 68
        }
      ]
    },
    {
      "cell_type": "code",
      "metadata": {
        "id": "9vzJa5cWieym",
        "colab_type": "code",
        "colab": {
          "base_uri": "https://localhost:8080/",
          "height": 70
        },
        "outputId": "abeb8138-a0ed-4463-9fcd-d69ff9a27f58"
      },
      "source": [
        "#5\n",
        "\n",
        "num1 = input(\"Pick a number \")\n",
        "num2 = input(\"Pick another number \")\n",
        "\n",
        "def bigger(num1,num2):\n",
        "  if int(num1) > int(num2):\n",
        "    return \"The answer is \" + num1 + \" since \" + num1+ \" is the larger of \"+ num1 +\" and \"+ num2\n",
        "  elif int(num1) < int(num2):\n",
        "    return \"The answer is \" + num2 + \" since \" + num2+ \" is the larger of \"+ num1 +\" and \"+ num2\n",
        "  else:\n",
        "    return (\"The numbers you picked is equal\")\n",
        "\n",
        "bigger(num1,num2)\n",
        "\n"
      ],
      "execution_count": null,
      "outputs": [
        {
          "output_type": "stream",
          "text": [
            "Pick a number 12\n",
            "Pick another number 15\n"
          ],
          "name": "stdout"
        },
        {
          "output_type": "execute_result",
          "data": {
            "application/vnd.google.colaboratory.intrinsic+json": {
              "type": "string"
            },
            "text/plain": [
              "'The answer is 15 since 15 is the larger of 12 and 15'"
            ]
          },
          "metadata": {
            "tags": []
          },
          "execution_count": 72
        }
      ]
    },
    {
      "cell_type": "code",
      "metadata": {
        "id": "IL5etzUtmLhd",
        "colab_type": "code",
        "colab": {
          "base_uri": "https://localhost:8080/",
          "height": 70
        },
        "outputId": "970789dd-16e0-43a6-df4f-58adbbadbbbf"
      },
      "source": [
        "#6\n",
        "\n",
        "age1 = input(\"Enter your own age \")\n",
        "age2 = input(\"Enter your friend's age \")\n",
        "\n",
        "def bigger(age1,age2):\n",
        "  if int(age1) > int(age2):\n",
        "    return \"The older of the two is \" + age1 + \" years old.\"\n",
        "  elif int(age1) < int(age2):\n",
        "    return \"The older of the two is \" + age2 + \" years old.\"\n",
        "  else:\n",
        "    return (\"Your ages are equal\")\n",
        "\n",
        "bigger(age1,age2)\n"
      ],
      "execution_count": null,
      "outputs": [
        {
          "output_type": "stream",
          "text": [
            "Enter your own age 18\n",
            "Enter your friend's age 20\n"
          ],
          "name": "stdout"
        },
        {
          "output_type": "execute_result",
          "data": {
            "application/vnd.google.colaboratory.intrinsic+json": {
              "type": "string"
            },
            "text/plain": [
              "'The older of the two is 20 years old.'"
            ]
          },
          "metadata": {
            "tags": []
          },
          "execution_count": 74
        }
      ]
    }
  ]
}